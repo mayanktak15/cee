{
 "cells": [
  {
   "cell_type": "code",
   "execution_count": 16,
   "id": "7c7992fe",
   "metadata": {},
   "outputs": [],
   "source": [
    "# Data and model imports\n",
    "from sklearn import datasets\n",
    "from sklearn.model_selection import train_test_split, GridSearchCV, RandomizedSearchCV\n",
    "from sklearn.svm import SVC\n",
    "from sklearn.metrics import accuracy_score, precision_score, recall_score, f1_score, classification_report\n",
    "from scipy.stats import uniform\n",
    "import numpy as np\n",
    "import pandas as pd\n",
    "import warnings\n",
    "\n",
    "warnings.filterwarnings('ignore')\n"
   ]
  },
  {
   "cell_type": "code",
   "execution_count": 17,
   "id": "2de36c6f",
   "metadata": {},
   "outputs": [
    {
     "name": "stdout",
     "output_type": "stream",
     "text": [
      "Feature names: ['alcohol', 'malic_acid', 'ash', 'alcalinity_of_ash', 'magnesium', 'total_phenols', 'flavanoids', 'nonflavanoid_phenols', 'proanthocyanins', 'color_intensity', 'hue', 'od280/od315_of_diluted_wines', 'proline']\n",
      "Target classes: ['class_0' 'class_1' 'class_2']\n",
      "Shape of X: (178, 13)\n",
      "Shape of y: (178,)\n"
     ]
    }
   ],
   "source": [
    "# Load the Wine dataset\n",
    "wine = datasets.load_wine()\n",
    "X = wine.data\n",
    "y = wine.target\n",
    "\n",
    "# Basic data exploration\n",
    "print(\"Feature names:\", wine.feature_names)\n",
    "print(\"Target classes:\", wine.target_names)\n",
    "print(\"Shape of X:\", X.shape)\n",
    "print(\"Shape of y:\", y.shape)\n"
   ]
  },
  {
   "cell_type": "code",
   "execution_count": 18,
   "id": "6bea2c64",
   "metadata": {},
   "outputs": [],
   "source": [
    "# Split the dataset into training and testing sets\n",
    "X_train, X_test, y_train, y_test = train_test_split(\n",
    "    X, y, test_size=0.2, random_state=24\n",
    ")\n"
   ]
  },
  {
   "cell_type": "code",
   "execution_count": 19,
   "id": "a8d4232e",
   "metadata": {},
   "outputs": [
    {
     "name": "stdout",
     "output_type": "stream",
     "text": [
      "GridSearchCV Best Hyperparameters: {'C': 0.1, 'gamma': 0.1, 'kernel': 'poly'}\n",
      "GridSearchCV Accuracy: 0.9444444444444444\n",
      "GridSearchCV Precision: 0.9493827160493827\n",
      "GridSearchCV Recall: 0.9444444444444444\n",
      "GridSearchCV F1-score: 0.9436036129748098\n",
      "\n",
      "Classification Report:\n",
      "               precision    recall  f1-score   support\n",
      "\n",
      "           0       0.93      1.00      0.97        14\n",
      "           1       1.00      0.86      0.92        14\n",
      "           2       0.89      1.00      0.94         8\n",
      "\n",
      "    accuracy                           0.94        36\n",
      "   macro avg       0.94      0.95      0.94        36\n",
      "weighted avg       0.95      0.94      0.94        36\n",
      "\n"
     ]
    }
   ],
   "source": [
    "# Define hyperparameter grid\n",
    "param_grid = {\n",
    "    'C': [0.1, 1, 10],\n",
    "    'kernel': ['linear', 'rbf', 'poly'],\n",
    "    'gamma': [0.1, 1, 'scale', 'auto']\n",
    "}\n",
    "\n",
    "# Grid search with 5-fold cross-validation\n",
    "grid_search = GridSearchCV(\n",
    "    estimator=SVC(),\n",
    "    param_grid=param_grid,\n",
    "    cv=5,\n",
    "    scoring='accuracy'\n",
    ")\n",
    "grid_search.fit(X_train, y_train)\n",
    "\n",
    "# Best model from grid search\n",
    "best_grid_model = grid_search.best_estimator_\n",
    "y_pred_grid = best_grid_model.predict(X_test)\n",
    "\n",
    "print(\"GridSearchCV Best Hyperparameters:\", grid_search.best_params_)\n",
    "print(\"GridSearchCV Accuracy:\", accuracy_score(y_test, y_pred_grid))\n",
    "print(\"GridSearchCV Precision:\", precision_score(y_test, y_pred_grid, average='weighted'))\n",
    "print(\"GridSearchCV Recall:\", recall_score(y_test, y_pred_grid, average='weighted'))\n",
    "print(\"GridSearchCV F1-score:\", f1_score(y_test, y_pred_grid, average='weighted'))\n",
    "print(\"\\nClassification Report:\\n\", classification_report(y_test, y_pred_grid))\n"
   ]
  },
  {
   "cell_type": "code",
   "execution_count": 20,
   "id": "9f1d7d98",
   "metadata": {},
   "outputs": [
    {
     "name": "stdout",
     "output_type": "stream",
     "text": [
      "RandomizedSearchCV Best Hyperparameters: {'C': np.float64(3.845401188473625), 'gamma': np.float64(1.5264179671752334), 'kernel': 'poly'}\n",
      "RandomizedSearchCV Accuracy: 0.9444444444444444\n",
      "RandomizedSearchCV Precision: 0.9493827160493827\n",
      "RandomizedSearchCV Recall: 0.9444444444444444\n",
      "RandomizedSearchCV F1-score: 0.9436036129748098\n",
      "\n",
      "Classification Report:\n",
      "               precision    recall  f1-score   support\n",
      "\n",
      "           0       0.93      1.00      0.97        14\n",
      "           1       1.00      0.86      0.92        14\n",
      "           2       0.89      1.00      0.94         8\n",
      "\n",
      "    accuracy                           0.94        36\n",
      "   macro avg       0.94      0.95      0.94        36\n",
      "weighted avg       0.95      0.94      0.94        36\n",
      "\n"
     ]
    }
   ],
   "source": [
    "# Define hyperparameter distributions\n",
    "param_dist = {\n",
    "    'C': uniform(0.1, 10),\n",
    "    'kernel': ['linear', 'rbf', 'poly'],\n",
    "    'gamma': ['scale', 'auto'] + list(np.logspace(-3, 3, 50))\n",
    "}\n",
    "\n",
    "# Randomized search with 5-fold cross-validation\n",
    "randomized_search = RandomizedSearchCV(\n",
    "    estimator=SVC(),\n",
    "    param_distributions=param_dist,\n",
    "    n_iter=20,\n",
    "    cv=5,\n",
    "    random_state=42,\n",
    "    scoring='accuracy'\n",
    ")\n",
    "randomized_search.fit(X_train, y_train)\n",
    "\n",
    "# Best model from randomized search\n",
    "best_rand_model = randomized_search.best_estimator_\n",
    "y_pred_rand = best_rand_model.predict(X_test)\n",
    "baseline_svm = SVC()\n",
    "baseline_svm.fit(X_train, y_train)\n",
    "y_pred = baseline_svm.predict(X_test)\n",
    "\n",
    "y_pred = baseline_svm.predict(X_test)\n",
    "print(\"RandomizedSearchCV Best Hyperparameters:\", randomized_search.best_params_)\n",
    "print(\"RandomizedSearchCV Accuracy:\", accuracy_score(y_test, y_pred_rand))\n",
    "print(\"RandomizedSearchCV Precision:\", precision_score(y_test, y_pred_rand, average='weighted'))\n",
    "print(\"RandomizedSearchCV Recall:\", recall_score(y_test, y_pred_rand, average='weighted'))\n",
    "print(\"RandomizedSearchCV F1-score:\", f1_score(y_test, y_pred_rand, average='weighted'))\n",
    "print(\"\\nClassification Report:\\n\", classification_report(y_test, y_pred_rand))\n"
   ]
  },
  {
   "cell_type": "code",
   "execution_count": 21,
   "id": "a671a1c4",
   "metadata": {},
   "outputs": [
    {
     "name": "stdout",
     "output_type": "stream",
     "text": [
      "                Model  Accuracy  Precision    Recall  F1-score\n",
      "0        Baseline SVM  0.777778   0.800505  0.777778  0.781462\n",
      "1        GridSearchCV  0.944444   0.949383  0.944444  0.943604\n",
      "2  RandomizedSearchCV  0.944444   0.949383  0.944444  0.943604\n"
     ]
    }
   ],
   "source": [
    "# Compile results in a DataFrame\n",
    "results = pd.DataFrame({\n",
    "    'Model': ['Baseline SVM', 'GridSearchCV', 'RandomizedSearchCV'],\n",
    "    'Accuracy': [\n",
    "        \n",
    "        accuracy_score(y_test, y_pred),\n",
    "        accuracy_score(y_test, y_pred_grid),\n",
    "        accuracy_score(y_test, y_pred_rand)\n",
    "    ],\n",
    "    'Precision': [\n",
    "        precision_score(y_test, y_pred, average='weighted'),\n",
    "        precision_score(y_test, y_pred_grid, average='weighted'),\n",
    "        precision_score(y_test, y_pred_rand, average='weighted')\n",
    "    ],\n",
    "    'Recall': [\n",
    "        recall_score(y_test, y_pred, average='weighted'),\n",
    "        recall_score(y_test, y_pred_grid, average='weighted'),\n",
    "        recall_score(y_test, y_pred_rand, average='weighted')\n",
    "    ],\n",
    "    'F1-score': [\n",
    "        f1_score(y_test, y_pred, average='weighted'),\n",
    "        f1_score(y_test, y_pred_grid, average='weighted'),\n",
    "        f1_score(y_test, y_pred_rand, average='weighted')\n",
    "    ]\n",
    "})\n",
    "\n",
    "print(results)\n"
   ]
  },
  {
   "cell_type": "code",
   "execution_count": null,
   "id": "4e412a0a",
   "metadata": {},
   "outputs": [],
   "source": []
  }
 ],
 "metadata": {
  "kernelspec": {
   "display_name": "ML",
   "language": "python",
   "name": "python3"
  },
  "language_info": {
   "codemirror_mode": {
    "name": "ipython",
    "version": 3
   },
   "file_extension": ".py",
   "mimetype": "text/x-python",
   "name": "python",
   "nbconvert_exporter": "python",
   "pygments_lexer": "ipython3",
   "version": "3.10.16"
  }
 },
 "nbformat": 4,
 "nbformat_minor": 5
}
